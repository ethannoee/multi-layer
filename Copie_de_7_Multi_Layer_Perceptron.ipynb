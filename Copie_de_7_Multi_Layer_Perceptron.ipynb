{
  "cells": [
    {
      "cell_type": "markdown",
      "metadata": {
        "id": "_Q9Hzh_rtjIb"
      },
      "source": [
        "# Multi Layer Perceptron (MLP)\n",
        "\n",
        "\n",
        "# 1. Réseaux de neurones artificiels\n",
        "\n",
        "\n",
        "Un Multi Layer Perceptron (MLP) est un réseau de neurones artificiels composé de plusieurs couches de perceptron, où chaque neurone d'une couche est connecté à tous les neurones de la couche suivante. Les couches intermédiaires entre la couche d'entrée et la couche de sortie sont appelées couches cachées.\n",
        "\n",
        "Chaque neurone d'un MLP utilise une fonction d'activation non linéaire pour transformer la somme pondérée des signaux d'entrée en une sortie. Les poids et les biais de chaque neurone sont appris par rétropropagation (backpropagation) lors de l'entraînement du réseau à partir d'un ensemble de données d'entraînement.\n",
        "\n",
        "<img src='https://raw.githubusercontent.com/ECE-Engineer/TensorFlow-Multilayer-Perceptron/master/MLP.png'>\n",
        "\n",
        "Un réseau de neuronnes est  caractérisé par : \n",
        "- le nombre de couches qu'il contient, \n",
        "- le nombre de neurones par couche,\n",
        "- la fonction d'activation utilisée par chaque neurone.\n",
        "\n",
        "<img src='https://upload.wikimedia.org/wikipedia/commons/thumb/a/ab/TensorFlow_logo.svg/1200px-TensorFlow_logo.svg.png' width=200>\n",
        "\n",
        "[TensorFlow](https://www.tensorflow.org/) est une bibliothèque open source de calcul numérique et de machine learning, développée par Google Brain Team. Elle permet de créer et d'entraîner des de deeplearning  pour diverses tâches telles que la classification, la reconnaissance d'image, la détection d'objet, la segmentation d'image, la génération de texte et bien plus encore. \n",
        "\n",
        "Les modèles de deeplearning sont créés en assemblant des couches de neurones et en ajustant les poids de ces neurones lors de l'entraînement pour améliorer les performances du modèle. TensorFlow est utilisé dans de nombreuses industries et domaines, tels que la reconnaissance vocale, la robotique, la vision par ordinateur, la biologie, la finance, etc."
      ]
    },
    {
      "cell_type": "code",
      "execution_count": null,
      "metadata": {
        "id": "MfbfaeEKtjIi",
        "outputId": "14e4e969-9b92-48e8-e32b-8c262f02d99b",
        "colab": {
          "base_uri": "https://localhost:8080/"
        }
      },
      "outputs": [
        {
          "output_type": "stream",
          "name": "stdout",
          "text": [
            "Model: \"sequential\"\n",
            "_________________________________________________________________\n",
            " Layer (type)                Output Shape              Param #   \n",
            "=================================================================\n",
            " dense (Dense)               (None, 6)                 78        \n",
            "                                                                 \n",
            " dense_1 (Dense)             (None, 3)                 21        \n",
            "                                                                 \n",
            " dense_2 (Dense)             (None, 6)                 24        \n",
            "                                                                 \n",
            " dense_3 (Dense)             (None, 1)                 7         \n",
            "                                                                 \n",
            "=================================================================\n",
            "Total params: 130\n",
            "Trainable params: 130\n",
            "Non-trainable params: 0\n",
            "_________________________________________________________________\n"
          ]
        }
      ],
      "source": [
        "import tensorflow as tf\n",
        "\n",
        "class MultiLayerPerceptron:\n",
        "    def __init__(self, input_dim, output_dim):\n",
        "\n",
        "        # On crée un modèle séquentiel\n",
        "        self.model = tf.keras.models.Sequential() \n",
        "\n",
        "        # Première couche cachée de 3 neurones\n",
        "        self.model.add(tf.keras.layers.Dense(6, input_dim=input_dim, activation='sigmoid'))\n",
        "\n",
        "        # Deuxième couche cachée de 3 neurones\n",
        "        self.model.add(tf.keras.layers.Dense(3, activation='softmax'))\n",
        "        self.model.add(tf.keras.layers.Dense(6, activation='sigmoid'))\n",
        "\n",
        "        # Couche de sortie de 2 neurones\n",
        "        self.model.add(tf.keras.layers.Dense(output_dim, activation='softmax'))\n",
        "\n",
        "    \n",
        "model = MultiLayerPerceptron(12, 1).model\n",
        "\n",
        "\n",
        "model.compile(optimizer='sgd', loss='mean_absolute_error', metrics=['accuracy'])\n",
        "model.summary()"
      ]
    },
    {
      "cell_type": "code",
      "execution_count": null,
      "metadata": {
        "id": "O1UySQiStjIm"
      },
      "outputs": [],
      "source": [
        "import pandas as pd\n",
        "import matplotlib.pyplot as plt\n",
        "\n",
        "from sklearn.model_selection import train_test_split\n",
        "from sklearn.preprocessing import StandardScaler\n",
        "from sklearn.preprocessing import LabelEncoder\n",
        "\n",
        "\n",
        "def plot_history(history):\n",
        "    plt.plot(history.history['accuracy'])\n",
        "    plt.plot(history.history['val_accuracy'])\n",
        "    plt.title('Accuracy')\n",
        "    plt.ylabel('Accuracy')\n",
        "    plt.xlabel('Epoch')\n",
        "    plt.legend(['train', 'val'], loc='upper left')\n",
        "    plt.show()\n",
        "\n",
        "\n",
        "file_path = 'train.csv'\n",
        "\n",
        "\n",
        "# Import du jeu de données\n",
        "df = pd.read_csv(file_path)\n",
        "\n",
        "X = df.drop(['ID', 'contact', 'month', 'day', 'y'], axis=1)\n",
        "y = df['y']\n",
        "\n",
        "# Encodage des variables catégorielles\n",
        "le = LabelEncoder()\n",
        "X['job'] = le.fit_transform(X['job'])\n",
        "X['marital'] = le.fit_transform(X['marital'])\n",
        "X['education'] = le.fit_transform(X['education'])\n",
        "X['default'] = le.fit_transform(X['default'])\n",
        "X['housing'] = le.fit_transform(X['housing'])\n",
        "X['loan'] = le.fit_transform(X['loan'])\n",
        "X['poutcome'] = le.fit_transform(X['poutcome'])\n",
        "\n",
        "y = le.fit_transform(y)\n",
        "\n",
        "# Normalisation des données\n",
        "sc = StandardScaler()\n",
        "X = sc.fit_transform(X)\n",
        "\n",
        "# Séparer les données en train et test\n",
        "X_train, X_test, y_train, y_test = train_test_split(X, y, test_size=0.2, random_state=42)\n"
      ]
    },
    {
      "cell_type": "code",
      "execution_count": null,
      "metadata": {
        "id": "uKfJGsg0tjIn"
      },
      "outputs": [],
      "source": []
    },
    {
      "cell_type": "code",
      "execution_count": null,
      "metadata": {
        "id": "Bn6aq2nXtjIo",
        "colab": {
          "base_uri": "https://localhost:8080/"
        },
        "outputId": "a7c2316e-3646-4e5d-cc35-c363d0fa03d6"
      },
      "outputs": [
        {
          "output_type": "stream",
          "name": "stdout",
          "text": [
            "Epoch 1/5\n",
            "1030/1030 [==============================] - 5s 3ms/step - loss: 0.6884 - accuracy: 0.3116 - val_loss: 1.1984 - val_accuracy: 0.0000e+00\n",
            "Epoch 2/5\n",
            "1030/1030 [==============================] - 3s 3ms/step - loss: 0.6884 - accuracy: 0.3116 - val_loss: 1.1984 - val_accuracy: 0.0000e+00\n",
            "Epoch 3/5\n",
            "1030/1030 [==============================] - 3s 3ms/step - loss: 0.6884 - accuracy: 0.3116 - val_loss: 1.1984 - val_accuracy: 0.0000e+00\n",
            "Epoch 4/5\n",
            "1030/1030 [==============================] - 3s 3ms/step - loss: 0.6884 - accuracy: 0.3116 - val_loss: 1.1984 - val_accuracy: 0.0000e+00\n",
            "Epoch 5/5\n",
            "1030/1030 [==============================] - 6s 5ms/step - loss: 0.6884 - accuracy: 0.3116 - val_loss: 1.1984 - val_accuracy: 0.0000e+00\n"
          ]
        }
      ],
      "source": [
        "history = model.fit(X_train, y_train,validation_data=(X_test, X_test), epochs=5, batch_size=10) "
      ]
    },
    {
      "cell_type": "code",
      "execution_count": null,
      "metadata": {
        "id": "QSly6BBMtjIo"
      },
      "outputs": [],
      "source": []
    },
    {
      "cell_type": "code",
      "source": [],
      "metadata": {
        "id": "pJingYSA1Ys4"
      },
      "execution_count": null,
      "outputs": []
    },
    {
      "cell_type": "code",
      "source": [],
      "metadata": {
        "id": "VBkJk35f1YmQ"
      },
      "execution_count": null,
      "outputs": []
    },
    {
      "cell_type": "code",
      "source": [],
      "metadata": {
        "id": "xXsyXZEF1Ygr"
      },
      "execution_count": null,
      "outputs": []
    },
    {
      "cell_type": "code",
      "source": [],
      "metadata": {
        "id": "Isk_7PaD1Yal"
      },
      "execution_count": null,
      "outputs": []
    },
    {
      "cell_type": "code",
      "source": [],
      "metadata": {
        "id": "SR1k1oI31YVG"
      },
      "execution_count": null,
      "outputs": []
    },
    {
      "cell_type": "code",
      "source": [],
      "metadata": {
        "id": "8wp2euiX1YPv"
      },
      "execution_count": null,
      "outputs": []
    },
    {
      "cell_type": "code",
      "source": [],
      "metadata": {
        "id": "tUBC8S7N1YKK"
      },
      "execution_count": null,
      "outputs": []
    },
    {
      "cell_type": "code",
      "source": [],
      "metadata": {
        "id": "gMWxkSNS1YEp"
      },
      "execution_count": null,
      "outputs": []
    },
    {
      "cell_type": "code",
      "source": [],
      "metadata": {
        "id": "9DMmNchE1YBw"
      },
      "execution_count": null,
      "outputs": []
    },
    {
      "cell_type": "code",
      "source": [],
      "metadata": {
        "id": "pNYR-ofG1X-9"
      },
      "execution_count": null,
      "outputs": []
    },
    {
      "cell_type": "code",
      "source": [],
      "metadata": {
        "id": "IcucSGJ91X8S"
      },
      "execution_count": null,
      "outputs": []
    },
    {
      "cell_type": "code",
      "execution_count": null,
      "metadata": {
        "id": "BMq1OhP1tjIp",
        "colab": {
          "base_uri": "https://localhost:8080/"
        },
        "outputId": "ccc4682f-eda7-47ac-a953-653342fca0d8"
      },
      "outputs": [
        {
          "output_type": "stream",
          "name": "stdout",
          "text": [
            "Taille de l'ensemble d'entraînement : 80\n",
            "Taille de l'ensemble de test : 20\n"
          ]
        }
      ],
      "source": [
        "#Séparation des données en données d'entrainement et de test\n",
        "from sklearn.model_selection import train_test_split\n",
        "import numpy as np\n",
        "\n",
        "# Générer des données d'exemple\n",
        "X = np.random.rand(100, 10)  # Matrice de 100 échantillons de 10 variables\n",
        "y = np.random.randint(2, size=100)  # Vecteur de 100 étiquettes binaires\n",
        "\n",
        "# Séparer les données en ensembles d'entraînement et de test\n",
        "X_train, X_test, y_train, y_test = train_test_split(X, y, test_size=0.2, random_state=42)\n",
        "\n",
        "# Afficher la taille des ensembles d'entraînement et de test\n",
        "print(\"Taille de l'ensemble d'entraînement :\", X_train.shape[0])\n",
        "print(\"Taille de l'ensemble de test :\", X_test.shape[0])"
      ]
    },
    {
      "cell_type": "code",
      "execution_count": null,
      "metadata": {
        "id": "zypcVD8ytjIq",
        "outputId": "b9a324de-167d-4483-efe2-e02c836da11b",
        "colab": {
          "base_uri": "https://localhost:8080/",
          "height": 1000
        }
      },
      "outputs": [
        {
          "output_type": "stream",
          "name": "stdout",
          "text": [
            "Epoch 1/5\n"
          ]
        },
        {
          "output_type": "error",
          "ename": "InvalidArgumentError",
          "evalue": "ignored",
          "traceback": [
            "\u001b[0;31m---------------------------------------------------------------------------\u001b[0m",
            "\u001b[0;31mInvalidArgumentError\u001b[0m                      Traceback (most recent call last)",
            "\u001b[0;32m<ipython-input-6-bdf059efa171>\u001b[0m in \u001b[0;36m<cell line: 2>\u001b[0;34m()\u001b[0m\n\u001b[1;32m      1\u001b[0m \u001b[0;31m# Entrainement du modèle\u001b[0m\u001b[0;34m\u001b[0m\u001b[0;34m\u001b[0m\u001b[0m\n\u001b[0;32m----> 2\u001b[0;31m \u001b[0mhistory\u001b[0m \u001b[0;34m=\u001b[0m \u001b[0mmodel\u001b[0m\u001b[0;34m.\u001b[0m\u001b[0mfit\u001b[0m\u001b[0;34m(\u001b[0m\u001b[0mX_train\u001b[0m\u001b[0;34m,\u001b[0m \u001b[0my_train\u001b[0m\u001b[0;34m,\u001b[0m \u001b[0mvalidation_data\u001b[0m\u001b[0;34m=\u001b[0m\u001b[0;34m(\u001b[0m\u001b[0mX_test\u001b[0m\u001b[0;34m,\u001b[0m \u001b[0my_test\u001b[0m\u001b[0;34m)\u001b[0m\u001b[0;34m,\u001b[0m\u001b[0mepochs\u001b[0m\u001b[0;34m=\u001b[0m\u001b[0;36m5\u001b[0m\u001b[0;34m,\u001b[0m \u001b[0mbatch_size\u001b[0m\u001b[0;34m=\u001b[0m\u001b[0;36m10\u001b[0m\u001b[0;34m)\u001b[0m\u001b[0;34m\u001b[0m\u001b[0;34m\u001b[0m\u001b[0m\n\u001b[0m",
            "\u001b[0;32m/usr/local/lib/python3.9/dist-packages/keras/utils/traceback_utils.py\u001b[0m in \u001b[0;36merror_handler\u001b[0;34m(*args, **kwargs)\u001b[0m\n\u001b[1;32m     68\u001b[0m             \u001b[0;31m# To get the full stack trace, call:\u001b[0m\u001b[0;34m\u001b[0m\u001b[0;34m\u001b[0m\u001b[0m\n\u001b[1;32m     69\u001b[0m             \u001b[0;31m# `tf.debugging.disable_traceback_filtering()`\u001b[0m\u001b[0;34m\u001b[0m\u001b[0;34m\u001b[0m\u001b[0m\n\u001b[0;32m---> 70\u001b[0;31m             \u001b[0;32mraise\u001b[0m \u001b[0me\u001b[0m\u001b[0;34m.\u001b[0m\u001b[0mwith_traceback\u001b[0m\u001b[0;34m(\u001b[0m\u001b[0mfiltered_tb\u001b[0m\u001b[0;34m)\u001b[0m \u001b[0;32mfrom\u001b[0m \u001b[0;32mNone\u001b[0m\u001b[0;34m\u001b[0m\u001b[0;34m\u001b[0m\u001b[0m\n\u001b[0m\u001b[1;32m     71\u001b[0m         \u001b[0;32mfinally\u001b[0m\u001b[0;34m:\u001b[0m\u001b[0;34m\u001b[0m\u001b[0;34m\u001b[0m\u001b[0m\n\u001b[1;32m     72\u001b[0m             \u001b[0;32mdel\u001b[0m \u001b[0mfiltered_tb\u001b[0m\u001b[0;34m\u001b[0m\u001b[0;34m\u001b[0m\u001b[0m\n",
            "\u001b[0;32m/usr/local/lib/python3.9/dist-packages/tensorflow/python/eager/execute.py\u001b[0m in \u001b[0;36mquick_execute\u001b[0;34m(op_name, num_outputs, inputs, attrs, ctx, name)\u001b[0m\n\u001b[1;32m     50\u001b[0m   \u001b[0;32mtry\u001b[0m\u001b[0;34m:\u001b[0m\u001b[0;34m\u001b[0m\u001b[0;34m\u001b[0m\u001b[0m\n\u001b[1;32m     51\u001b[0m     \u001b[0mctx\u001b[0m\u001b[0;34m.\u001b[0m\u001b[0mensure_initialized\u001b[0m\u001b[0;34m(\u001b[0m\u001b[0;34m)\u001b[0m\u001b[0;34m\u001b[0m\u001b[0;34m\u001b[0m\u001b[0m\n\u001b[0;32m---> 52\u001b[0;31m     tensors = pywrap_tfe.TFE_Py_Execute(ctx._handle, device_name, op_name,\n\u001b[0m\u001b[1;32m     53\u001b[0m                                         inputs, attrs, num_outputs)\n\u001b[1;32m     54\u001b[0m   \u001b[0;32mexcept\u001b[0m \u001b[0mcore\u001b[0m\u001b[0;34m.\u001b[0m\u001b[0m_NotOkStatusException\u001b[0m \u001b[0;32mas\u001b[0m \u001b[0me\u001b[0m\u001b[0;34m:\u001b[0m\u001b[0;34m\u001b[0m\u001b[0;34m\u001b[0m\u001b[0m\n",
            "\u001b[0;31mInvalidArgumentError\u001b[0m: Graph execution error:\n\nDetected at node 'sequential/dense/BiasAdd' defined at (most recent call last):\n    File \"/usr/lib/python3.9/runpy.py\", line 197, in _run_module_as_main\n      return _run_code(code, main_globals, None,\n    File \"/usr/lib/python3.9/runpy.py\", line 87, in _run_code\n      exec(code, run_globals)\n    File \"/usr/local/lib/python3.9/dist-packages/ipykernel_launcher.py\", line 16, in <module>\n      app.launch_new_instance()\n    File \"/usr/local/lib/python3.9/dist-packages/traitlets/config/application.py\", line 992, in launch_instance\n      app.start()\n    File \"/usr/local/lib/python3.9/dist-packages/ipykernel/kernelapp.py\", line 619, in start\n      self.io_loop.start()\n    File \"/usr/local/lib/python3.9/dist-packages/tornado/platform/asyncio.py\", line 215, in start\n      self.asyncio_loop.run_forever()\n    File \"/usr/lib/python3.9/asyncio/base_events.py\", line 601, in run_forever\n      self._run_once()\n    File \"/usr/lib/python3.9/asyncio/base_events.py\", line 1905, in _run_once\n      handle._run()\n    File \"/usr/lib/python3.9/asyncio/events.py\", line 80, in _run\n      self._context.run(self._callback, *self._args)\n    File \"/usr/local/lib/python3.9/dist-packages/tornado/ioloop.py\", line 687, in <lambda>\n      lambda f: self._run_callback(functools.partial(callback, future))\n    File \"/usr/local/lib/python3.9/dist-packages/tornado/ioloop.py\", line 740, in _run_callback\n      ret = callback()\n    File \"/usr/local/lib/python3.9/dist-packages/tornado/gen.py\", line 821, in inner\n      self.ctx_run(self.run)\n    File \"/usr/local/lib/python3.9/dist-packages/tornado/gen.py\", line 782, in run\n      yielded = self.gen.send(value)\n    File \"/usr/local/lib/python3.9/dist-packages/ipykernel/kernelbase.py\", line 361, in process_one\n      yield gen.maybe_future(dispatch(*args))\n    File \"/usr/local/lib/python3.9/dist-packages/tornado/gen.py\", line 234, in wrapper\n      yielded = ctx_run(next, result)\n    File \"/usr/local/lib/python3.9/dist-packages/ipykernel/kernelbase.py\", line 261, in dispatch_shell\n      yield gen.maybe_future(handler(stream, idents, msg))\n    File \"/usr/local/lib/python3.9/dist-packages/tornado/gen.py\", line 234, in wrapper\n      yielded = ctx_run(next, result)\n    File \"/usr/local/lib/python3.9/dist-packages/ipykernel/kernelbase.py\", line 539, in execute_request\n      self.do_execute(\n    File \"/usr/local/lib/python3.9/dist-packages/tornado/gen.py\", line 234, in wrapper\n      yielded = ctx_run(next, result)\n    File \"/usr/local/lib/python3.9/dist-packages/ipykernel/ipkernel.py\", line 302, in do_execute\n      res = shell.run_cell(code, store_history=store_history, silent=silent)\n    File \"/usr/local/lib/python3.9/dist-packages/ipykernel/zmqshell.py\", line 539, in run_cell\n      return super(ZMQInteractiveShell, self).run_cell(*args, **kwargs)\n    File \"/usr/local/lib/python3.9/dist-packages/IPython/core/interactiveshell.py\", line 2975, in run_cell\n      result = self._run_cell(\n    File \"/usr/local/lib/python3.9/dist-packages/IPython/core/interactiveshell.py\", line 3030, in _run_cell\n      return runner(coro)\n    File \"/usr/local/lib/python3.9/dist-packages/IPython/core/async_helpers.py\", line 78, in _pseudo_sync_runner\n      coro.send(None)\n    File \"/usr/local/lib/python3.9/dist-packages/IPython/core/interactiveshell.py\", line 3257, in run_cell_async\n      has_raised = await self.run_ast_nodes(code_ast.body, cell_name,\n    File \"/usr/local/lib/python3.9/dist-packages/IPython/core/interactiveshell.py\", line 3473, in run_ast_nodes\n      if (await self.run_code(code, result,  async_=asy)):\n    File \"/usr/local/lib/python3.9/dist-packages/IPython/core/interactiveshell.py\", line 3553, in run_code\n      exec(code_obj, self.user_global_ns, self.user_ns)\n    File \"<ipython-input-5-bdf059efa171>\", line 2, in <cell line: 2>\n      history = model.fit(X_train, y_train, validation_data=(X_test, y_test),epochs=5, batch_size=10)\n    File \"/usr/local/lib/python3.9/dist-packages/keras/utils/traceback_utils.py\", line 65, in error_handler\n      return fn(*args, **kwargs)\n    File \"/usr/local/lib/python3.9/dist-packages/keras/engine/training.py\", line 1685, in fit\n      tmp_logs = self.train_function(iterator)\n    File \"/usr/local/lib/python3.9/dist-packages/keras/engine/training.py\", line 1284, in train_function\n      return step_function(self, iterator)\n    File \"/usr/local/lib/python3.9/dist-packages/keras/engine/training.py\", line 1268, in step_function\n      outputs = model.distribute_strategy.run(run_step, args=(data,))\n    File \"/usr/local/lib/python3.9/dist-packages/keras/engine/training.py\", line 1249, in run_step\n      outputs = model.train_step(data)\n    File \"/usr/local/lib/python3.9/dist-packages/keras/engine/training.py\", line 1050, in train_step\n      y_pred = self(x, training=True)\n    File \"/usr/local/lib/python3.9/dist-packages/keras/utils/traceback_utils.py\", line 65, in error_handler\n      return fn(*args, **kwargs)\n    File \"/usr/local/lib/python3.9/dist-packages/keras/engine/training.py\", line 558, in __call__\n      return super().__call__(*args, **kwargs)\n    File \"/usr/local/lib/python3.9/dist-packages/keras/utils/traceback_utils.py\", line 65, in error_handler\n      return fn(*args, **kwargs)\n    File \"/usr/local/lib/python3.9/dist-packages/keras/engine/base_layer.py\", line 1145, in __call__\n      outputs = call_fn(inputs, *args, **kwargs)\n    File \"/usr/local/lib/python3.9/dist-packages/keras/utils/traceback_utils.py\", line 96, in error_handler\n      return fn(*args, **kwargs)\n    File \"/usr/local/lib/python3.9/dist-packages/keras/engine/sequential.py\", line 412, in call\n      return super().call(inputs, training=training, mask=mask)\n    File \"/usr/local/lib/python3.9/dist-packages/keras/engine/functional.py\", line 512, in call\n      return self._run_internal_graph(inputs, training=training, mask=mask)\n    File \"/usr/local/lib/python3.9/dist-packages/keras/engine/functional.py\", line 669, in _run_internal_graph\n      outputs = node.layer(*args, **kwargs)\n    File \"/usr/local/lib/python3.9/dist-packages/keras/utils/traceback_utils.py\", line 65, in error_handler\n      return fn(*args, **kwargs)\n    File \"/usr/local/lib/python3.9/dist-packages/keras/engine/base_layer.py\", line 1145, in __call__\n      outputs = call_fn(inputs, *args, **kwargs)\n    File \"/usr/local/lib/python3.9/dist-packages/keras/utils/traceback_utils.py\", line 96, in error_handler\n      return fn(*args, **kwargs)\n    File \"/usr/local/lib/python3.9/dist-packages/keras/layers/core/dense.py\", line 252, in call\n      outputs = tf.nn.bias_add(outputs, self.bias)\nNode: 'sequential/dense/BiasAdd'\nMatrix size-incompatible: In[0]: [10,10], In[1]: [12,6]\n\t [[{{node sequential/dense/BiasAdd}}]] [Op:__inference_train_function_27215]"
          ]
        }
      ],
      "source": [
        "# Entrainement du modèle\n",
        "history = model.fit(X_train, y_train, validation_data=(X_test, y_test),epochs=5, batch_size=10)"
      ]
    },
    {
      "cell_type": "code",
      "execution_count": null,
      "metadata": {
        "id": "gSKNblmwtjIr"
      },
      "outputs": [],
      "source": [
        "# Evaluation du modèle\n",
        "model.evaluate(X_test, y_test, batch_size=10)"
      ]
    },
    {
      "cell_type": "code",
      "execution_count": null,
      "metadata": {
        "id": "TzOcSaG3tjIs"
      },
      "outputs": [],
      "source": []
    },
    {
      "cell_type": "code",
      "execution_count": null,
      "metadata": {
        "id": "jXyIU35ptjIs"
      },
      "outputs": [],
      "source": []
    },
    {
      "cell_type": "markdown",
      "metadata": {
        "id": "igQApy6YtjIt"
      },
      "source": [
        "## 2. Fonction d'activation\n",
        "\n",
        "Une fonction d'activation est une fonction mathématique appliquée à la sortie d'un neurone dans un réseau de neurones artificiels. Elle introduit de la non-linéarité dans les sorties des neurones et permet ainsi au réseau de neurones de modéliser des relations complexes entre les entrées et les sorties.\n",
        "\n",
        "Il existe plusieurs types de fonctions d'activation, chacune avec ses propres avantages et inconvénients. Voici quelques exemples de fonctions d'activation couramment utilisées :\n",
        "\n",
        "- [Fonction sigmoïde](https://www.tensorflow.org/api_docs/python/tf/keras/activations/sigmoid) : une fonction en forme de S qui comprime les valeurs d'entrée entre 0 et 1, souvent utilisée pour la classification binaire ou la régression logistique.\n",
        "<img src='https://upload.wikimedia.org/wikipedia/commons/thumb/9/96/SigmoidFunction.svg/2560px-SigmoidFunction.svg.png' width=300>\n",
        "\n",
        "- [Fonction tangente hyperbolique](https://www.tensorflow.org/api_docs/python/tf/keras/activations/tanh) (tanh) : une fonction similaire à la fonction sigmoïde, mais qui comprime les valeurs d'entrée entre -1 et 1.\n",
        "\n",
        "<img src='https://upload.wikimedia.org/wikipedia/commons/thumb/8/87/Hyperbolic_Tangent.svg/langfr-2880px-Hyperbolic_Tangent.svg.png' width=400>\n",
        "\n",
        "- [Fonction ReLU](https://www.tensorflow.org/api_docs/python/tf/keras/activations/relu) (Rectified Linear Unit) : une fonction qui renvoie la valeur d'entrée si elle est positive, sinon renvoie 0. Cette fonction est souvent utilisée pour les réseaux de neurones profonds en raison de sa simplicité et de son efficacité.\n",
        "\n",
        "<img src='https://upload.wikimedia.org/wikipedia/commons/thumb/f/fe/Activation_rectified_linear.svg/2880px-Activation_rectified_linear.svg.png' width=400>\n",
        "\n",
        "- [Fonction softmax](https://www.tensorflow.org/api_docs/python/tf/keras/activations/softmax) : une fonction qui renvoie un vecteur de probabilités normalisées, souvent utilisée pour la classification multi-classes.\n",
        "\n",
        "<img src='https://miro.medium.com/v2/resize:fit:480/1*5nKWsukS6lPR-7fHtlK2Rg.png'>\n",
        "\n",
        "Le choix de la fonction d'activation dépend du type de problème de modélisation, du type de données en entrée et de la structure du réseau de neurones.\n",
        "\n",
        "D'autres fonctions d'activation existent et peuvent être utilisées dans TensorFlow. Vous pouvez consulter la [documentation TensorFlow](https://www.tensorflow.org/api_docs/python/tf/keras/activations) pour plus d'informations."
      ]
    },
    {
      "cell_type": "code",
      "execution_count": null,
      "metadata": {
        "id": "AvT5GmL0tjIu"
      },
      "outputs": [],
      "source": []
    },
    {
      "cell_type": "code",
      "execution_count": null,
      "metadata": {
        "id": "dG1pFM3ptjIu"
      },
      "outputs": [],
      "source": []
    },
    {
      "cell_type": "code",
      "execution_count": null,
      "metadata": {
        "id": "-v50tR6PtjIv"
      },
      "outputs": [],
      "source": []
    },
    {
      "cell_type": "code",
      "execution_count": null,
      "metadata": {
        "id": "mu4iAJxutjIw"
      },
      "outputs": [],
      "source": []
    },
    {
      "cell_type": "markdown",
      "metadata": {
        "id": "JH50_lsLtjIw"
      },
      "source": [
        "## 2. Fonction de coût et descente de gradient\n",
        "\n",
        "<img src='https://i.stack.imgur.com/VIeBL.png' width=700>\n",
        "\n",
        "### Fonction de coût\n",
        "Une fonction de perte (ou fonction d'erreur) est une mesure utilisée pour évaluer la qualité des prédictions d'un modèle de machine learning. Elle calcule l'écart entre les sorties prédites par le modèle et les sorties attendues (étiquettes de classe) pour un ensemble de données d'entraînement. \n",
        "\n",
        "L'objectif de l'apprentissage automatique est de minimiser cette fonction de perte, c'est-à-dire de trouver les paramètres du modèle qui minimisent l'écart entre les prédictions et les étiquettes de classe réelles.\n",
        "\n",
        "La fonction de perte est spécifique au type de tâche de classification ou de régression que le modèle tente de résoudre :\n",
        "\n",
        "\n",
        "**=> Pour de la classification binaire on retrouve :**\n",
        "- l'entropie croisée binaire, Elle mesure l'écart entre la probabilité prédite de la classe positive et la valeur réelle de la classe. loss = mean(- y_true * log(y_pred) - (1 - y_true) * log(1 - y_pred))\n",
        "\n",
        "`loss='binary_crossentropy'`\n",
        "\n",
        "- la fonction de perte logistique, qui est similaire à l'entropie croisée binaire, mais qui est plus stable pour les valeurs de probabilité proches de 0 ou 1.\n",
        "\n",
        "`loss='log_loss'`\n",
        "\n",
        "**=> Pour la classification multiclasse, on utilise souvent :**\n",
        "- l'entropie croisée catégorielle, elle mesure la distance entre la distribution de probabilité de sortie du modèle et la distribution de probabilité des étiquettes réelles. loss = mean(- sum(y_true * log(y_pred)))\n",
        "\n",
        "`loss='categorical_crossentropy'`\n",
        "\n",
        "**=> Pour de la regression, on retrouve :**\n",
        "- Erreur quadratique moyenne (Mean Squared Error), elle est calculée en prenant la moyenne des carrés des différences entre les valeurs de sortie prédites et les valeurs réelles. mean(mean((y_true - y_pred) ** 2))\n",
        "\n",
        "`loss='mean_squared_error'`\n",
        "\n",
        "- Erreur absolue moyenne (Mean Absolute Error), elle mesure la moyenne des écarts absolus entre les valeurs prédites et les valeurs réelles. loss = mean(mean(abs(y_true - y_pred)))\n",
        "\n",
        "`loss='mean_absolute_error'`\n",
        "\n",
        "En plus de la fonction de perte, il existe également des fonctions de régularisation qui aident à prévenir le surapprentissage en ajoutant des pénalités à la fonction de perte pour les paramètres du modèle qui sont trop grands.\n",
        "\n",
        "D'autre fonction de pertes existent et peuvent être utilisées dans TensorFlow. Vous pouvez consulter la [documentation TensorFlow](https://www.tensorflow.org/api_docs/python/tf/keras/losses) pour plus d'informations."
      ]
    },
    {
      "cell_type": "markdown",
      "metadata": {
        "id": "sxPZCBAqtjIx"
      },
      "source": [
        "### Descente de gradient\n",
        "\n",
        "<img src='https://upload.wikimedia.org/wikipedia/commons/6/68/Gradient_ascent_%28surface%29.png'>\n",
        "\n",
        "La descente de gradient est un algorithme d'optimisation qui agit sur les poids et les biais (ou \"biais de neuronnes\") du réseau de neurones.\n",
        "\n",
        "L'objectif de la descente de gradient est de minimiser la fonction de perte du modèle en ajustant les poids et les biais du réseau de neurones. \n",
        "\n",
        "Pour ce faire, elle calcule le gradient de la fonction de perte par rapport à chaque poids et biais du réseau de neurones et utilise ce gradient pour ajuster progressivement les valeurs des poids et des biais dans la direction de la pente descendante de la fonction de perte.\n",
        "\n",
        "Voici les optimiseurs disponibles dans TensorFlow :\n",
        "- `SGD` (Stochastic Gradient Descent) : l'algorithme de descente de gradient stochastique classique, qui met à jour les poids du modèle à chaque itération en fonction du gradient de la fonction de perte par rapport aux poids.\n",
        "\n",
        "- `Adam` (Adaptive Moment Estimation) : un algorithme d'optimisation adaptatif qui utilise des estimations adaptatives des moments du premier et du second ordre pour mettre à jour les poids du modèle.\n",
        "\n",
        "- `RMSprop` (Root Mean Square Propagation) : un algorithme d'optimisation qui utilise une moyenne mobile du carré des gradients pour normaliser les mises à jour des poids.\n",
        "\n",
        "- `Adagrad` (Adaptive Gradient Algorithm) : un algorithme d'optimisation qui adapte les taux d'apprentissage de chaque poids du modèle en fonction de l'historique des mises à jour.\n",
        "\n",
        "- `Adamax` (Adaptive Moment Estimation with infinity norm) : une variante d'Adam qui utilise la norme infinie pour normaliser les mises à jour des poids.\n",
        "\n",
        "- `Nadam` (Nesterov-accelerated Adaptive Moment Estimation) : une variante d'Adam qui incorpore la méthode Nesterov Accelerated Gradient pour accélérer la convergence."
      ]
    },
    {
      "cell_type": "code",
      "source": [],
      "metadata": {
        "id": "bx603wlTjzq4"
      },
      "execution_count": null,
      "outputs": []
    },
    {
      "cell_type": "markdown",
      "metadata": {
        "id": "8m5_fitdtjIz"
      },
      "source": [
        "----\n",
        "### Exercice 1 : Entrainement d'un MLP sur le jeu de données `Bank marketing`\n",
        "\n",
        "Créez un nouveau notebook intitulé `Modèle DeepLearning - Bank marketing` puis répondez aux questions suivantes. Chaque partie doit être séparée par un titre de niveau 2 et doit être accompagnée d'un commentaire expliquant votre démarche.\n",
        "\n",
        "1. Complétez le code suivant en renseignant le chemin vers le jeu de données `Bank marketing` puis exécutez le code afin d'obtenir les variables d'entrainement et de test.\n",
        "\n",
        "2. Créez un réseau de neuronnes profond avec 3 couches cachées de 10 neurones chacune et une couche de sortie de 1 neurone. Utilisez la fonction d'activation `relu` pour les couches cachées et `sigmoid` pour la couche de sortie. \n",
        "\n",
        "3. Compilez le modèle en utilisant l'optimiseur `adam` et la fonction de perte `binary_crossentropy`.\n",
        "\n",
        "4. Entraînez le modèle en utilisant 10 epochs et une taille de batch de 32 et stockez l'historique de l'entraînement dans la variable `history`.   \n",
        "\n",
        "Utilisez la méthode fit du modèle : `fit(X_train, y_train, validation_data=(X_test, y_test),\n",
        "          epochs=5, batch_size=10, verbose=1)`\n",
        "\n",
        "5. Affichez l'historique de l'entraînement en utilisant la fonction `plot_history`.\n",
        "\n",
        "6. Obtenez les prédictions du modèle sur les données de test avec la méthode `predict` et calculez l'accuracy du modèle avec la fonction `accuracy_score` de la librairie `sklearn.metrics`. Utilisez une liste compréhension pour convertir les prédictions en 0 ou 1 avec un seuil de 0.5.\n",
        "\n",
        "7. Affichez les poids du modèle avec l'attribut `get_weights` du modèle. Comment est-ce que les poids sont stockés ?\n",
        "\n",
        "8. Changez les hyperparamètres du modèle et observez l'impact sur l'accuracy du modèle.\n",
        "- fonction d'activation, \n",
        "- nombre de couches, \n",
        "- nombre de neurones, \n",
        "- optimiseur, \n",
        "- fonction de perte, \n",
        "- nombre d'epochs, \n",
        "- taille de batch\n",
        "\n",
        "Au moins 3 configurations différentes doivent être testées.\n",
        "Quel est le meilleur modèle que vous avez obtenu ? \n",
        "\n",
        "9. Sauvegardez le modèle en utilisant la méthode `save` du modèle. Chargez le modèle en utilisant la méthode `load_model` de la librairie `tensorflow.keras.models`.\n",
        "\n",
        "10. Publiez votre projet sur GitHub et placez le lien dans dans le fichier [suivant](https://docs.google.com/spreadsheets/d/1mnS5XL4pJNmQNclndP2LZPCELOi1OmBKoW3803xyK8c/edit?usp=sharing).\n",
        "\n",
        "**Bonus :** Déposez le `Tp 6 : Introduction au Deep Learning` dans votre dossier Github avec vos noms et prénoms dans le nom du fichier."
      ]
    },
    {
      "cell_type": "code",
      "execution_count": null,
      "metadata": {
        "id": "c1F3IodWtjI0"
      },
      "outputs": [],
      "source": [
        "import pandas as pd\n",
        "import matplotlib.pyplot as plt\n",
        "\n",
        "from sklearn.model_selection import train_test_split\n",
        "from sklearn.preprocessing import StandardScaler\n",
        "from sklearn.preprocessing import LabelEncoder\n",
        "\n",
        "\n",
        "def plot_history(history):\n",
        "    plt.plot(history.history['accuracy'])\n",
        "    plt.plot(history.history['val_accuracy'])\n",
        "    plt.title('Accuracy')\n",
        "    plt.ylabel('Accuracy')\n",
        "    plt.xlabel('Epoch')\n",
        "    plt.legend(['train', 'val'], loc='upper left')\n",
        "    plt.show()\n",
        "\n",
        "\n",
        "file_path = 'train.csv'\n",
        "\n",
        "\n",
        "# Import du jeu de données\n",
        "df = pd.read_csv('train.csv')\n",
        "\n",
        "X = df.drop(['ID', 'contact', 'month', 'day', 'y'], axis=1)\n",
        "y = df['y']\n",
        "\n",
        "# Encodage des variables catégorielles\n",
        "le = LabelEncoder()\n",
        "X['job'] = le.fit_transform(X['job'])\n",
        "X['marital'] = le.fit_transform(X['marital'])\n",
        "X['education'] = le.fit_transform(X['education'])\n",
        "X['default'] = le.fit_transform(X['default'])\n",
        "X['housing'] = le.fit_transform(X['housing'])\n",
        "X['loan'] = le.fit_transform(X['loan'])\n",
        "X['poutcome'] = le.fit_transform(X['poutcome'])\n",
        "\n",
        "y = le.fit_transform(y)\n",
        "\n",
        "# Normalisation des données\n",
        "sc = StandardScaler()\n",
        "X = sc.fit_transform(X)\n",
        "\n",
        "# Séparer les données en train et test\n",
        "X_train, X_test, y_train, y_test = train_test_split(X, y, test_size=0.2, random_state=42)\n"
      ]
    },
    {
      "cell_type": "code",
      "source": [
        "X_train"
      ],
      "metadata": {
        "colab": {
          "base_uri": "https://localhost:8080/"
        },
        "id": "wfgP2OdE1En7",
        "outputId": "19e8e349-52f5-44b0-bfdc-493d5628c4e6"
      },
      "execution_count": null,
      "outputs": [
        {
          "output_type": "execute_result",
          "data": {
            "text/plain": [
              "array([[-0.09651752,  1.4095278 , -1.92250352, ..., -0.44574006,\n",
              "        -0.33614417,  0.48099775],\n",
              "       [-0.62725046, -1.04892593, -0.30533879, ...,  0.82765312,\n",
              "         0.15175201, -1.53707595],\n",
              "       [ 1.40722581,  0.18030093, -0.30533879, ..., -0.44574006,\n",
              "        -0.33614417,  0.48099775],\n",
              "       ...,\n",
              "       [-1.06952791, -1.04892593, -0.30533879, ..., -0.44574006,\n",
              "        -0.33614417,  0.48099775],\n",
              "       [ 0.87649287,  1.4095278 , -0.30533879, ..., -0.44574006,\n",
              "        -0.33614417,  0.48099775],\n",
              "       [-1.33489437,  0.48760765,  1.31182593, ..., -0.44574006,\n",
              "        -0.33614417,  0.48099775]])"
            ]
          },
          "metadata": {},
          "execution_count": 8
        }
      ]
    },
    {
      "cell_type": "code",
      "source": [
        "#question 2\n",
        "import tensorflow as tf\n",
        "\n",
        "class MultiLayerPerceptron:\n",
        "    def __init__(self, input_dim, output_dim):\n",
        "\n",
        "        # On crée un modèle séquentiel\n",
        "        self.model = tf.keras.models.Sequential() \n",
        "\n",
        "        # Première couche cachée de 10 neurones\n",
        "        self.model.add(tf.keras.layers.Dense(6, input_dim=input_dim, activation='relu'))\n",
        "\n",
        "        # Deuxième couche cachée de 10 neurones\n",
        "        self.model.add(tf.keras.layers.Dense(3, activation='relu'))\n",
        "        #Troisième couche cahée de 10 neurones\n",
        "        self.model.add(tf.keras.layers.Dense(6, activation='relu'))\n",
        "\n",
        "        # Couche de sortie de 10 neurones\n",
        "        self.model.add(tf.keras.layers.Dense(output_dim, activation='sigmoid'))\n",
        "\n",
        "    \n",
        "model_2 = MultiLayerPerceptron(12, 1).model\n",
        "\n",
        "\n",
        "model_2.compile(optimizer='sgd', loss='mean_absolute_error', metrics=['accuracy'])\n",
        "model_2.summary()"
      ],
      "metadata": {
        "id": "EE7OYWcABtDn",
        "colab": {
          "base_uri": "https://localhost:8080/"
        },
        "outputId": "26aad198-18e5-4bff-b814-14bf7ce294fb"
      },
      "execution_count": null,
      "outputs": [
        {
          "output_type": "stream",
          "name": "stdout",
          "text": [
            "Model: \"sequential_9\"\n",
            "_________________________________________________________________\n",
            " Layer (type)                Output Shape              Param #   \n",
            "=================================================================\n",
            " dense_36 (Dense)            (None, 6)                 78        \n",
            "                                                                 \n",
            " dense_37 (Dense)            (None, 3)                 21        \n",
            "                                                                 \n",
            " dense_38 (Dense)            (None, 6)                 24        \n",
            "                                                                 \n",
            " dense_39 (Dense)            (None, 1)                 7         \n",
            "                                                                 \n",
            "=================================================================\n",
            "Total params: 130\n",
            "Trainable params: 130\n",
            "Non-trainable params: 0\n",
            "_________________________________________________________________\n"
          ]
        }
      ]
    },
    {
      "cell_type": "code",
      "source": [
        "# question 3\n",
        "from tensorflow.keras.models import Sequential\n",
        "from tensorflow.keras.layers import Dense\n",
        "\n",
        "# Création du modèle\n",
        "model = Sequential()\n",
        "model.add(Dense(10, activation='relu', input_dim=X_train.shape[1]))\n",
        "model.add(Dense(10, activation='relu'))\n",
        "model.add(Dense(10, activation='relu'))\n",
        "model.add(Dense(1, activation='sigmoid'))\n",
        "\n",
        "# Compilation du modèle\n",
        "model.compile(optimizer='adam', loss='binary_crossentropy', metrics=['accuracy'])"
      ],
      "metadata": {
        "id": "CgjxTPt_FIJE"
      },
      "execution_count": null,
      "outputs": []
    },
    {
      "cell_type": "code",
      "source": [
        "# question 4\n",
        "history = model.fit(X_train, y_train, validation_data=(X_test, y_test), epochs=10, batch_size=32, verbose=1)\n",
        "\n"
      ],
      "metadata": {
        "colab": {
          "base_uri": "https://localhost:8080/"
        },
        "id": "WJ2u4crTFH55",
        "outputId": "c875e424-32d2-4b91-e935-a54e2e5a57c6"
      },
      "execution_count": null,
      "outputs": [
        {
          "output_type": "stream",
          "name": "stdout",
          "text": [
            "Epoch 1/10\n",
            "322/322 [==============================] - 2s 3ms/step - loss: 0.5975 - accuracy: 0.6893 - val_loss: 0.5596 - val_accuracy: 0.7273\n",
            "Epoch 2/10\n",
            "322/322 [==============================] - 1s 3ms/step - loss: 0.5594 - accuracy: 0.7302 - val_loss: 0.5463 - val_accuracy: 0.7401\n",
            "Epoch 3/10\n",
            "322/322 [==============================] - 1s 3ms/step - loss: 0.5499 - accuracy: 0.7425 - val_loss: 0.5383 - val_accuracy: 0.7521\n",
            "Epoch 4/10\n",
            "322/322 [==============================] - 1s 4ms/step - loss: 0.5442 - accuracy: 0.7442 - val_loss: 0.5354 - val_accuracy: 0.7545\n",
            "Epoch 5/10\n",
            "322/322 [==============================] - 1s 4ms/step - loss: 0.5410 - accuracy: 0.7454 - val_loss: 0.5323 - val_accuracy: 0.7510\n",
            "Epoch 6/10\n",
            "322/322 [==============================] - 1s 3ms/step - loss: 0.5397 - accuracy: 0.7480 - val_loss: 0.5292 - val_accuracy: 0.7591\n",
            "Epoch 7/10\n",
            "322/322 [==============================] - 1s 3ms/step - loss: 0.5380 - accuracy: 0.7492 - val_loss: 0.5300 - val_accuracy: 0.7599\n",
            "Epoch 8/10\n",
            "322/322 [==============================] - 1s 5ms/step - loss: 0.5368 - accuracy: 0.7510 - val_loss: 0.5292 - val_accuracy: 0.7587\n",
            "Epoch 9/10\n",
            "322/322 [==============================] - 1s 4ms/step - loss: 0.5354 - accuracy: 0.7503 - val_loss: 0.5287 - val_accuracy: 0.7580\n",
            "Epoch 10/10\n",
            "322/322 [==============================] - 1s 2ms/step - loss: 0.5347 - accuracy: 0.7510 - val_loss: 0.5346 - val_accuracy: 0.7502\n"
          ]
        }
      ]
    },
    {
      "cell_type": "code",
      "source": [
        "# question 5\n",
        "import matplotlib.pyplot as plt\n",
        "\n",
        "plot_history(history)"
      ],
      "metadata": {
        "colab": {
          "base_uri": "https://localhost:8080/",
          "height": 391
        },
        "id": "fUdrTQlGFHv7",
        "outputId": "e333a92b-9784-4224-b663-1bb00d4b99a5"
      },
      "execution_count": null,
      "outputs": [
        {
          "output_type": "display_data",
          "data": {
            "text/plain": [
              "<Figure size 1200x400 with 2 Axes>"
            ],
            "image/png": "[encoded data removed]"
          },
          "metadata": {}
        }
      ]
    },
    {
      "cell_type": "code",
      "source": [
        "# question 6\n",
        "import numpy as np\n",
        "from sklearn.metrics import accuracy_score\n",
        "\n",
        "# Obtenir les prédictions du modèle sur les données de test\n",
        "y_pred = (model.predict(X_test) > 0.5).astype(\"int32\")\n",
        "\n",
        "# Convertir les prédictions en une liste de 0 ou 1\n",
        "y_pred = [np.round(p[0]) for p in y_pred]\n",
        "\n",
        "# Calculer l'accuracy du modèle\n",
        "accuracy = accuracy_score(y_test, y_pred)\n",
        "print(\"Accuracy:\", accuracy)"
      ],
      "metadata": {
        "colab": {
          "base_uri": "https://localhost:8080/"
        },
        "id": "P_NQLPLaG0M_",
        "outputId": "1c0ab8b8-5ad9-4c5b-b1b2-010bdf15ae5a"
      },
      "execution_count": null,
      "outputs": [
        {
          "output_type": "stream",
          "name": "stdout",
          "text": [
            "81/81 [==============================] - 0s 1ms/step\n",
            "Accuracy: 0.7501942501942502\n"
          ]
        }
      ]
    },
    {
      "cell_type": "code",
      "source": [
        "# question 7\n",
        "model = tf.keras.models.Sequential([\n",
        "    tf.keras.layers.Dense(10, activation='relu', input_shape=(4,)),\n",
        "    tf.keras.layers.Dense(10, activation='relu'),\n",
        "    tf.keras.layers.Dense(10, activation='relu'),\n",
        "    tf.keras.layers.Dense(1, activation='sigmoid')\n",
        "])\n",
        "\n",
        "# Afficher les poids du modèle\n",
        "weights = model.get_weights()\n",
        "for i, w in enumerate(weights):\n",
        "    print(f'Poids de la couche {i}: {w.shape}')"
      ],
      "metadata": {
        "colab": {
          "base_uri": "https://localhost:8080/"
        },
        "id": "DLd-BXrsG0KM",
        "outputId": "b8fa7c1e-102f-48ab-89f2-17a569b4fdd7"
      },
      "execution_count": null,
      "outputs": [
        {
          "output_type": "stream",
          "name": "stdout",
          "text": [
            "Poids de la couche 0: (4, 10)\n",
            "Poids de la couche 1: (10,)\n",
            "Poids de la couche 2: (10, 10)\n",
            "Poids de la couche 3: (10,)\n",
            "Poids de la couche 4: (10, 10)\n",
            "Poids de la couche 5: (10,)\n",
            "Poids de la couche 6: (10, 1)\n",
            "Poids de la couche 7: (1,)\n"
          ]
        }
      ]
    },
    {
      "cell_type": "code",
      "source": [
        "#question 8\n",
        "import tensorflow as tf\n",
        "\n",
        "class MultiLayerPerceptron:\n",
        "    def __init__(self, input_dim, output_dim):\n",
        "\n",
        "        # On crée un modèle séquentiel\n",
        "        self.model = tf.keras.models.Sequential() \n",
        "\n",
        "        # Première couche cachée de 15 neurones\n",
        "        self.model.add(tf.keras.layers.Dense(6, input_dim=input_dim, activation='sigmoid'))\n",
        "\n",
        "        # Deuxième couche cachée de 15 neurones\n",
        "        self.model.add(tf.keras.layers.Dense(3, activation='softmax'))\n",
        "        #Troisième couche cahée de 30 neurones\n",
        "        self.model.add(tf.keras.layers.Dense(6, activation='sigmoid'))\n",
        "\n",
        "        # Couche de sortie de 15neurones\n",
        "        self.model.add(tf.keras.layers.Dense(output_dim, activation='softmax'))\n",
        "\n",
        "    \n",
        "model_2 = MultiLayerPerceptron(12, 1).model\n",
        "\n",
        "\n",
        "model_2.compile(optimizer='sgd', loss='mean_absolute_error', metrics=['accuracy'])\n",
        "model_2.summary()\n",
        "\n",
        "y_pred_2 = (model_2.predict(X_test) > 0.5).astype(int)\n",
        "accuarcy = accuracy_score(y_test, y_pred_2)\n",
        "print(\"Accuracy du model : {:.2%}\".format(accuracy))"
      ],
      "metadata": {
        "id": "nkIzuo5ulfta",
        "colab": {
          "base_uri": "https://localhost:8080/"
        },
        "outputId": "f4783b83-50d5-4911-8be5-deb1a1d9cca7"
      },
      "execution_count": null,
      "outputs": [
        {
          "output_type": "stream",
          "name": "stdout",
          "text": [
            "Model: \"sequential_8\"\n",
            "_________________________________________________________________\n",
            " Layer (type)                Output Shape              Param #   \n",
            "=================================================================\n",
            " dense_32 (Dense)            (None, 6)                 78        \n",
            "                                                                 \n",
            " dense_33 (Dense)            (None, 3)                 21        \n",
            "                                                                 \n",
            " dense_34 (Dense)            (None, 6)                 24        \n",
            "                                                                 \n",
            " dense_35 (Dense)            (None, 1)                 7         \n",
            "                                                                 \n",
            "=================================================================\n",
            "Total params: 130\n",
            "Trainable params: 130\n",
            "Non-trainable params: 0\n",
            "_________________________________________________________________\n",
            "81/81 [==============================] - 0s 2ms/step\n",
            "Accuracy du model : 75.02%\n"
          ]
        }
      ]
    },
    {
      "cell_type": "code",
      "source": [
        "#question 8\n",
        "import tensorflow as tf\n",
        "\n",
        "class MultiLayerPerceptron:\n",
        "    def __init__(self, input_dim, output_dim):\n",
        "\n",
        "        # On crée un modèle séquentiel\n",
        "        self.model = tf.keras.models.Sequential() \n",
        "\n",
        "        # Première couche cachée de 25 neurones\n",
        "        self.model.add(tf.keras.layers.Dense(6, input_dim=input_dim, activation='sigmoid'))\n",
        "\n",
        "        # Deuxième couche cachée de 25 neurones\n",
        "        self.model.add(tf.keras.layers.Dense(3, activation='softmax'))\n",
        "        #Troisième couche cahée de 30 neurones\n",
        "        self.model.add(tf.keras.layers.Dense(6, activation='sigmoid'))\n",
        "\n",
        "        # Couche de sortie de 25 neurones\n",
        "        self.model.add(tf.keras.layers.Dense(output_dim, activation='softmax'))\n",
        "\n",
        "    \n",
        "model_2 = MultiLayerPerceptron(12, 1).model\n",
        "\n",
        "\n",
        "model_2.compile(optimizer='sgd', loss='mean_absolute_error', metrics=['accuracy'])\n",
        "model_2.summary()\n",
        "\n",
        "y_pred_2 = (model_2.predict(X_test) > 0.5).astype(int)\n",
        "accuarcy = accuracy_score(y_test, y_pred_2)\n",
        "print(\"Accuracy du model : {:.2%}\".format(accuracy))"
      ],
      "metadata": {
        "colab": {
          "base_uri": "https://localhost:8080/"
        },
        "id": "GtLissaJcEmP",
        "outputId": "a013fa5b-e673-4a4c-aba7-6b38bf25db29"
      },
      "execution_count": null,
      "outputs": [
        {
          "output_type": "stream",
          "name": "stdout",
          "text": [
            "Model: \"sequential_5\"\n",
            "_________________________________________________________________\n",
            " Layer (type)                Output Shape              Param #   \n",
            "=================================================================\n",
            " dense_20 (Dense)            (None, 6)                 78        \n",
            "                                                                 \n",
            " dense_21 (Dense)            (None, 3)                 21        \n",
            "                                                                 \n",
            " dense_22 (Dense)            (None, 6)                 24        \n",
            "                                                                 \n",
            " dense_23 (Dense)            (None, 1)                 7         \n",
            "                                                                 \n",
            "=================================================================\n",
            "Total params: 130\n",
            "Trainable params: 130\n",
            "Non-trainable params: 0\n",
            "_________________________________________________________________\n",
            "81/81 [==============================] - 1s 10ms/step\n",
            "Accuracy du model : 75.02%\n"
          ]
        }
      ]
    },
    {
      "cell_type": "code",
      "source": [
        "#question 8\n",
        "import tensorflow as tf\n",
        "\n",
        "class MultiLayerPerceptron:\n",
        "    def __init__(self, input_dim, output_dim):\n",
        "\n",
        "        # On crée un modèle séquentiel\n",
        "        self.model = tf.keras.models.Sequential() \n",
        "\n",
        "        # Première couche cachée de 30 neurones\n",
        "        self.model.add(tf.keras.layers.Dense(6, input_dim=input_dim, activation='sigmoid'))\n",
        "\n",
        "        # Deuxième couche cachée de 30 neurones\n",
        "        self.model.add(tf.keras.layers.Dense(3, activation='softmax'))\n",
        "        #Troisième couche cahée de 30 neurones\n",
        "        self.model.add(tf.keras.layers.Dense(6, activation='sigmoid'))\n",
        "\n",
        "        # Couche de sortie de 30 neurones\n",
        "        self.model.add(tf.keras.layers.Dense(output_dim, activation='softmax'))\n",
        "\n",
        "    \n",
        "model_2 = MultiLayerPerceptron(12, 1).model\n",
        "\n",
        "\n",
        "model_2.compile(optimizer='sgd', loss='mean_absolute_error', metrics=['accuracy'])\n",
        "model_2.summary()\n",
        "\n",
        "y_pred_2 = (model_2.predict(X_test) > 0.5).astype(int)\n",
        "accuarcy = accuracy_score(y_test, y_pred_2)\n",
        "print(\"Accuracy du model : {:.2%}\".format(accuracy))"
      ],
      "metadata": {
        "colab": {
          "base_uri": "https://localhost:8080/"
        },
        "id": "p96QUaBZff2O",
        "outputId": "1702844c-dbcb-4e90-95ff-40d628ff37e6"
      },
      "execution_count": null,
      "outputs": [
        {
          "output_type": "stream",
          "name": "stdout",
          "text": [
            "Model: \"sequential_7\"\n",
            "_________________________________________________________________\n",
            " Layer (type)                Output Shape              Param #   \n",
            "=================================================================\n",
            " dense_28 (Dense)            (None, 6)                 78        \n",
            "                                                                 \n",
            " dense_29 (Dense)            (None, 3)                 21        \n",
            "                                                                 \n",
            " dense_30 (Dense)            (None, 6)                 24        \n",
            "                                                                 \n",
            " dense_31 (Dense)            (None, 1)                 7         \n",
            "                                                                 \n",
            "=================================================================\n",
            "Total params: 130\n",
            "Trainable params: 130\n",
            "Non-trainable params: 0\n",
            "_________________________________________________________________\n",
            "81/81 [==============================] - 0s 2ms/step\n",
            "Accuracy du model : 75.02%\n"
          ]
        }
      ]
    },
    {
      "cell_type": "code",
      "source": [],
      "metadata": {
        "id": "RtpqJQ2zfoBI"
      },
      "execution_count": null,
      "outputs": []
    }
  ],
  "metadata": {
    "kernelspec": {
      "display_name": "Python 3",
      "language": "python",
      "name": "python3"
    },
    "language_info": {
      "codemirror_mode": {
        "name": "ipython",
        "version": 3
      },
      "file_extension": ".py",
      "mimetype": "text/x-python",
      "name": "python",
      "nbconvert_exporter": "python",
      "pygments_lexer": "ipython3",
      "version": "3.10.6"
    },
    "orig_nbformat": 4,
    "colab": {
      "provenance": []
    }
  },
  "nbformat": 4,
  "nbformat_minor": 0
}